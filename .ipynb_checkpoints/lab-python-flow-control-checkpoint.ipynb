{
 "cells": [
  {
   "cell_type": "markdown",
   "id": "d3bfc191-8885-42ee-b0a0-bbab867c6f9f",
   "metadata": {
    "tags": []
   },
   "source": [
    "# Lab | Flow Control"
   ]
  },
  {
   "cell_type": "markdown",
   "id": "3851fcd1-cf98-4653-9c89-e003b7ec9400",
   "metadata": {},
   "source": [
    "## Exercise: Managing Customer Orders Optimized\n",
    "\n",
    "In the last lab, you were starting an online store that sells various products. To ensure smooth operations, you developed a program that manages customer orders and inventory.\n",
    "\n",
    "You did so without using flow control. Let's go a step further and improve this code.\n",
    "\n",
    "Follow the steps below to complete the exercise:\n",
    "\n",
    "1. Look at your code from the lab data structures, and improve repeated code with loops.\n",
    "\n",
    "2. Instead of asking the user to input the name of three products that a customer wants to order, do the following:\n",
    "    \n",
    "    a. Prompt the user to enter the name of a product that a customer wants to order.\n",
    "    \n",
    "    b. Add the product name to the \"customer_orders\" set.\n",
    "    \n",
    "    c. Ask the user if they want to add another product (yes/no).\n",
    "    \n",
    "    d. Continue the loop until the user does not want to add another product.\n",
    "\n",
    "3. Instead of updating the inventory by subtracting 1 from the quantity of each product, only do it for  the products that were ordered (those in \"customer_orders\")."
   ]
  },
  {
   "cell_type": "code",
   "execution_count": 8,
   "id": "13026d24-9dc8-41e4-b20d-5c8c5db61465",
   "metadata": {},
   "outputs": [
    {
     "name": "stdin",
     "output_type": "stream",
     "text": [
      "How many items of product t-shirt are in the inventory? 52\n",
      "How many items of product mug are in the inventory? 23\n",
      "How many items of product hat are in the inventory? 26\n",
      "How many items of product book are in the inventory? 25\n",
      "How many items of product keychain are in the inventory? 1\n"
     ]
    },
    {
     "name": "stdout",
     "output_type": "stream",
     "text": [
      "{'t-shirt': 52, 'mug': 23, 'hat': 26, 'book': 25, 'keychain': 1}\n"
     ]
    }
   ],
   "source": [
    "products = [\"t-shirt\", \"mug\", \"hat\", \"book\", \"keychain\"]\n",
    "inventory = {}\n",
    "\n",
    "for product in products:\n",
    "    inventory[product] = int(input(f\"How many items of product {product} are in the inventory?\"))\n",
    "print(inventory)\n"
   ]
  },
  {
   "cell_type": "code",
   "execution_count": 18,
   "id": "a8731621-dec8-4333-b32b-c7c9259637cb",
   "metadata": {},
   "outputs": [
    {
     "name": "stdout",
     "output_type": "stream",
     "text": [
      "{'t-shirt': 52, 'mug': 22, 'hat': 26, 'book': 25, 'keychain': 0}\n"
     ]
    },
    {
     "name": "stdin",
     "output_type": "stream",
     "text": [
      "Please choose an item you would like to order from the above list. hat\n"
     ]
    },
    {
     "name": "stdout",
     "output_type": "stream",
     "text": [
      "Thanks, we've added hat to your order!\n"
     ]
    },
    {
     "name": "stdin",
     "output_type": "stream",
     "text": [
      "Would you like to order anything else? Type 'No' to exit. yes\n",
      "Please choose an item you would like to order from the above list. mug\n",
      "Please choose an item you would like to order from the above list. mug\n"
     ]
    },
    {
     "name": "stdout",
     "output_type": "stream",
     "text": [
      "Thanks, we've added mug to your order!\n"
     ]
    },
    {
     "name": "stdin",
     "output_type": "stream",
     "text": [
      "Would you like to order anything else? Type 'No' to exit. keychain\n",
      "Please choose an item you would like to order from the above list. keychain\n",
      "Please choose an item you would like to order from the above list. keychain\n"
     ]
    },
    {
     "name": "stdout",
     "output_type": "stream",
     "text": [
      "Thanks, we've added keychain to your order!\n"
     ]
    },
    {
     "name": "stdin",
     "output_type": "stream",
     "text": [
      "Would you like to order anything else? Type 'No' to exit. no\n"
     ]
    },
    {
     "name": "stdout",
     "output_type": "stream",
     "text": [
      "Thanks for ordering with us! We'll get right onto it.\n",
      "Customer order:  {'keychain', 'hat', 'mug'}\n"
     ]
    }
   ],
   "source": [
    "customer_order = set()\n",
    "\n",
    "print(inventory)\n",
    "while True:\n",
    "    user_choice = input(\"Please choose an item you would like to order from the above list.\").strip().lower()\n",
    "    if user_choice in inventory:\n",
    "        print(f\"Thanks, we've added {user_choice} to your order!\")\n",
    "        customer_order.add(user_choice)\n",
    "    else:    \n",
    "        print(f\"Sorry, I'm afraid we don't have {user_choice} in our stores\")\n",
    "    continue_ordering = input(\"Would you like to order anything else? Type 'No' to exit.\").strip().lower()\n",
    "    if continue_ordering != \"no\":\n",
    "        user_choice = input(\"Please choose an item you would like to order from the above list.\").strip().lower()\n",
    "    else:\n",
    "        print(\"Thanks for ordering with us! We'll get right onto it.\")\n",
    "        break\n",
    "\n",
    "print(\"Customer order: \", customer_order)"
   ]
  },
  {
   "cell_type": "code",
   "execution_count": 22,
   "id": "074c84c0-96fd-407a-81de-d9ffb97fcd7a",
   "metadata": {},
   "outputs": [
    {
     "name": "stdout",
     "output_type": "stream",
     "text": [
      "Updated inventory:\n",
      "t-shirt: 52\n",
      "mug: 20\n",
      "hat: 24\n",
      "book: 25\n",
      "keychain: 0\n"
     ]
    }
   ],
   "source": [
    "for item in customer_order:\n",
    "    if inventory[item] > 0:\n",
    "        inventory[item] -=1\n",
    "\n",
    "print(\"Updated inventory:\")\n",
    "for product, quantity in inventory.items():\n",
    "    print(f\"{product}: {quantity}\")\n"
   ]
  }
 ],
 "metadata": {
  "kernelspec": {
   "display_name": "Python 3 (ipykernel)",
   "language": "python",
   "name": "python3"
  },
  "language_info": {
   "codemirror_mode": {
    "name": "ipython",
    "version": 3
   },
   "file_extension": ".py",
   "mimetype": "text/x-python",
   "name": "python",
   "nbconvert_exporter": "python",
   "pygments_lexer": "ipython3",
   "version": "3.12.4"
  }
 },
 "nbformat": 4,
 "nbformat_minor": 5
}
